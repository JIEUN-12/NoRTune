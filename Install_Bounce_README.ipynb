{
 "cells": [
  {
   "cell_type": "markdown",
   "id": "24c304fc",
   "metadata": {},
   "source": [
    "# README for installing bounce\n",
    "----------"
   ]
  },
  {
   "cell_type": "markdown",
   "id": "3b802a05",
   "metadata": {},
   "source": [
    "### source: https://github.com/LeoIV/bounce\n",
    "```\n",
    "git clone https://github.com/LeoIV/bounce.git\n",
    "cd bounce\n",
    "```"
   ]
  },
  {
   "cell_type": "markdown",
   "id": "e4022c7c",
   "metadata": {},
   "source": [
    "------------------\n",
    "### Install poetry"
   ]
  },
  {
   "cell_type": "markdown",
   "id": "1fd17612",
   "metadata": {},
   "source": [
    "```\n",
    "curl -sSL https://install.python-poetry.org | python3 -\n",
    "```"
   ]
  },
  {
   "cell_type": "markdown",
   "id": "2d3c2229",
   "metadata": {},
   "source": [
    "```\n",
    "vim .bashrc\n",
    "# .bashrc\n",
    "export PATH=\"/home/jieun/.local/bin:$PATH\"\n",
    "```"
   ]
  },
  {
   "cell_type": "markdown",
   "id": "2e65849e",
   "metadata": {},
   "source": [
    "```\n",
    "source .bashrc\n",
    "```\n",
    "----------------"
   ]
  },
  {
   "cell_type": "markdown",
   "id": "d66789e5",
   "metadata": {},
   "source": [
    "### Install bounce"
   ]
  },
  {
   "cell_type": "markdown",
   "id": "0cbc1372",
   "metadata": {},
   "source": [
    "```\n",
    "poetry install\n",
    "```"
   ]
  }
 ],
 "metadata": {
  "kernelspec": {
   "display_name": "Python 3 (ipykernel)",
   "language": "python",
   "name": "python3"
  },
  "language_info": {
   "codemirror_mode": {
    "name": "ipython",
    "version": 3
   },
   "file_extension": ".py",
   "mimetype": "text/x-python",
   "name": "python",
   "nbconvert_exporter": "python",
   "pygments_lexer": "ipython3",
   "version": "3.7.13"
  }
 },
 "nbformat": 4,
 "nbformat_minor": 5
}
